{
 "cells": [
  {
   "cell_type": "code",
   "execution_count": 125,
   "metadata": {},
   "outputs": [],
   "source": [
    "import pandas as pd\n",
    "import numpy as np\n",
    "import seaborn as sns\n",
    "import xgboost as xgb\n",
    "import lightgbm as lgb\n",
    "import matplotlib.pyplot as plt\n",
    "from tqdm import tqdm\n",
    "from sklearn.model_selection import train_test_split\n",
    "from sklearn.metrics import f1_score\n",
    "from sklearn.ensemble import IsolationForest\n",
    "from sklearn.cluster import KMeans"
   ]
  },
  {
   "cell_type": "code",
   "execution_count": 126,
   "metadata": {},
   "outputs": [],
   "source": [
    "#读取数据\n",
    "\n",
    "data = pd.read_csv('./data/dataset.csv')\n",
    "sub = pd.read_csv('./data/submission.csv')"
   ]
  },
  {
   "cell_type": "code",
   "execution_count": 128,
   "metadata": {},
   "outputs": [],
   "source": [
    "# 以下为rule_based模型分析"
   ]
  },
  {
   "cell_type": "markdown",
   "metadata": {},
   "source": [
    "**切入切出风速分析**\n",
    "\n",
    "切入风速是针对并网型风机而言的，是指达到并网条件的风速，也就是可以发电的最低风速，低于此风速会自动停机。\n",
    "\n",
    "切出风速指风力发电机组并网发电百的最大风速，超过此风速机组将切出电网，就是风机会停机，停止发电，切入速度与叶片的空气动力性能有关。\n",
    "\n",
    "当达到这个风速时，发电机可以持续稳定的发电，切出风速除度与叶片有关以外还与机组载荷有关，若达到切出风速还不切出，可能会有塔架倒塌，叶轮飞车等事故的风险，启动消耗的电能一般小于切入风速时的发电量\n",
    "\n",
    "\n",
    "1.需要测试一下，Power和rotorspeed都是0的不一定是异常，因为风速不够不起来是正常的。相反，则可能是异常\n",
    "\n",
    "2.达到切入风速和超过切出风速，还在转不一定是异常，要看差分，因为开始转和停止转有一个过程的。这里可以看风速和Power历史窗口趋势和rotorspeed的关系\n",
    "\n",
    "**功率分析**\n",
    "先对低于0和超过2000的看看有什么发现\n",
    "\n",
    "\n",
    "**协同分析**\n",
    "风速变化不大的情况下，转速变化大也是异常"
   ]
  },
  {
   "cell_type": "code",
   "execution_count": 129,
   "metadata": {},
   "outputs": [
    {
     "data": {
      "text/html": [
       "<div>\n",
       "<style scoped>\n",
       "    .dataframe tbody tr th:only-of-type {\n",
       "        vertical-align: middle;\n",
       "    }\n",
       "\n",
       "    .dataframe tbody tr th {\n",
       "        vertical-align: top;\n",
       "    }\n",
       "\n",
       "    .dataframe thead th {\n",
       "        text-align: right;\n",
       "    }\n",
       "</style>\n",
       "<table border=\"1\" class=\"dataframe\">\n",
       "  <thead>\n",
       "    <tr style=\"text-align: right;\">\n",
       "      <th></th>\n",
       "      <th>WindNumber</th>\n",
       "      <th>Time</th>\n",
       "      <th>WindSpeed</th>\n",
       "      <th>Power</th>\n",
       "      <th>RotorSpeed</th>\n",
       "    </tr>\n",
       "  </thead>\n",
       "  <tbody>\n",
       "    <tr>\n",
       "      <th>2526</th>\n",
       "      <td>1</td>\n",
       "      <td>2017/11/21 9:40</td>\n",
       "      <td>12.874500</td>\n",
       "      <td>2089.800000</td>\n",
       "      <td>15.289000</td>\n",
       "    </tr>\n",
       "    <tr>\n",
       "      <th>2527</th>\n",
       "      <td>1</td>\n",
       "      <td>2017/11/21 9:50</td>\n",
       "      <td>14.156875</td>\n",
       "      <td>2072.812500</td>\n",
       "      <td>15.258125</td>\n",
       "    </tr>\n",
       "    <tr>\n",
       "      <th>2537</th>\n",
       "      <td>1</td>\n",
       "      <td>2017/11/21 13:20</td>\n",
       "      <td>11.593500</td>\n",
       "      <td>2023.200000</td>\n",
       "      <td>15.191000</td>\n",
       "    </tr>\n",
       "    <tr>\n",
       "      <th>2538</th>\n",
       "      <td>1</td>\n",
       "      <td>2017/11/21 13:20</td>\n",
       "      <td>11.593500</td>\n",
       "      <td>2023.200000</td>\n",
       "      <td>15.191000</td>\n",
       "    </tr>\n",
       "    <tr>\n",
       "      <th>2543</th>\n",
       "      <td>1</td>\n",
       "      <td>2017/11/21 14:10</td>\n",
       "      <td>11.805000</td>\n",
       "      <td>2034.900000</td>\n",
       "      <td>15.203500</td>\n",
       "    </tr>\n",
       "    <tr>\n",
       "      <th>...</th>\n",
       "      <td>...</td>\n",
       "      <td>...</td>\n",
       "      <td>...</td>\n",
       "      <td>...</td>\n",
       "      <td>...</td>\n",
       "    </tr>\n",
       "    <tr>\n",
       "      <th>497105</th>\n",
       "      <td>12</td>\n",
       "      <td>2019/12/26 21:30</td>\n",
       "      <td>16.925167</td>\n",
       "      <td>2046.501667</td>\n",
       "      <td>15.477500</td>\n",
       "    </tr>\n",
       "    <tr>\n",
       "      <th>497106</th>\n",
       "      <td>12</td>\n",
       "      <td>2019/12/26 21:40</td>\n",
       "      <td>16.451000</td>\n",
       "      <td>2046.625000</td>\n",
       "      <td>15.477750</td>\n",
       "    </tr>\n",
       "    <tr>\n",
       "      <th>497107</th>\n",
       "      <td>12</td>\n",
       "      <td>2019/12/26 21:50</td>\n",
       "      <td>16.473667</td>\n",
       "      <td>2044.068333</td>\n",
       "      <td>15.460500</td>\n",
       "    </tr>\n",
       "    <tr>\n",
       "      <th>497108</th>\n",
       "      <td>12</td>\n",
       "      <td>2019/12/26 22:00</td>\n",
       "      <td>17.568833</td>\n",
       "      <td>2045.656667</td>\n",
       "      <td>15.474500</td>\n",
       "    </tr>\n",
       "    <tr>\n",
       "      <th>497109</th>\n",
       "      <td>12</td>\n",
       "      <td>2019/12/26 22:10</td>\n",
       "      <td>19.122333</td>\n",
       "      <td>2006.990000</td>\n",
       "      <td>15.474250</td>\n",
       "    </tr>\n",
       "  </tbody>\n",
       "</table>\n",
       "<p>7734 rows × 5 columns</p>\n",
       "</div>"
      ],
      "text/plain": [
       "        WindNumber              Time  WindSpeed        Power  RotorSpeed\n",
       "2526             1   2017/11/21 9:40  12.874500  2089.800000   15.289000\n",
       "2527             1   2017/11/21 9:50  14.156875  2072.812500   15.258125\n",
       "2537             1  2017/11/21 13:20  11.593500  2023.200000   15.191000\n",
       "2538             1  2017/11/21 13:20  11.593500  2023.200000   15.191000\n",
       "2543             1  2017/11/21 14:10  11.805000  2034.900000   15.203500\n",
       "...            ...               ...        ...          ...         ...\n",
       "497105          12  2019/12/26 21:30  16.925167  2046.501667   15.477500\n",
       "497106          12  2019/12/26 21:40  16.451000  2046.625000   15.477750\n",
       "497107          12  2019/12/26 21:50  16.473667  2044.068333   15.460500\n",
       "497108          12  2019/12/26 22:00  17.568833  2045.656667   15.474500\n",
       "497109          12  2019/12/26 22:10  19.122333  2006.990000   15.474250\n",
       "\n",
       "[7734 rows x 5 columns]"
      ]
     },
     "execution_count": 129,
     "metadata": {},
     "output_type": "execute_result"
    }
   ],
   "source": [
    "data[data['Power']>2000]"
   ]
  },
  {
   "cell_type": "code",
   "execution_count": 115,
   "metadata": {},
   "outputs": [],
   "source": [
    "#这里是直接对RotorSpeed做判断，很粗，要改。\n",
    "\n",
    "def fun(x):\n",
    "    if x >16.8 or x<8.33:\n",
    "        return 1\n",
    "    else:\n",
    "        return 0\n",
    "data['label'] = 0\n",
    "for i in [1,2,3,4,6,7,8,9,10]:\n",
    "    temp_values = data.loc[data['WindNumber']==i]['RotorSpeed'].apply(lambda x: fun(x))\n",
    "    data.loc[data['WindNumber']==i,'label'] = temp_values\n",
    "\n",
    "\n",
    "def fun_14(x):\n",
    "    if x >14 or x<5:\n",
    "        return 1\n",
    "    else:\n",
    "        return 0\n",
    "temp_values = data.loc[data['WindNumber']==11]['RotorSpeed'].apply(lambda x: fun_14(x))\n",
    "data.loc[data['WindNumber']==11,'label'] = temp_values\n",
    "\n",
    "def fun_5(x):\n",
    "    if x >19 or x<5.5:\n",
    "        return 1\n",
    "    else:\n",
    "        return 0\n",
    "temp_values = data.loc[data['WindNumber']==5]['RotorSpeed'].apply(lambda x: fun_5(x))\n",
    "data.loc[data['WindNumber']==5,'label'] = temp_values\n",
    "\n",
    "\n",
    "def fun_12(x):\n",
    "    if x >17 or x<5.5:\n",
    "        return 1\n",
    "    else:\n",
    "        return 0\n",
    "temp_values = data.loc[data['WindNumber']==12]['RotorSpeed'].apply(lambda x: fun_12(x))\n",
    "data.loc[data['WindNumber']==12,'label'] = temp_values"
   ]
  },
  {
   "cell_type": "markdown",
   "metadata": {},
   "source": [
    "规则模型，最后设置两个fillter，离散度和阈值"
   ]
  },
  {
   "cell_type": "code",
   "execution_count": 118,
   "metadata": {},
   "outputs": [],
   "source": [
    "sub['label'] = data['label']\n",
    "\n",
    "sub.to_csv('sub.csv',index=None)"
   ]
  },
  {
   "cell_type": "code",
   "execution_count": null,
   "metadata": {},
   "outputs": [],
   "source": [
    "# 下面是tree_based模型，暂时不管"
   ]
  },
  {
   "cell_type": "code",
   "execution_count": 107,
   "metadata": {},
   "outputs": [],
   "source": [
    "model_isof = IsolationForest(n_estimators=500)\n",
    "#尝试一下把windnumber放进去一起，再尝试一下每个windnumber单独做\n",
    "outlier_label = model_isof.fit_predict(data[['RotorSpeed']])\n",
    "outlier_pd = pd.DataFrame(outlier_label, columns=['outlier_label'])\n",
    "\n",
    "data_merge = pd.concat((data, outlier_pd), axis=1)\n",
    "\n",
    "data_merge['outlier_label'] = data_merge['outlier_label']+2\n",
    "data_merge['outlier_label'] = data_merge['outlier_label'].astype('str').str.replace('3','0').astype('int')"
   ]
  },
  {
   "cell_type": "code",
   "execution_count": 108,
   "metadata": {},
   "outputs": [],
   "source": [
    "sub['label'] = data_merge['outlier_label']\n",
    "\n",
    "sub.to_csv('sub.csv',index=None)"
   ]
  },
  {
   "cell_type": "code",
   "execution_count": null,
   "metadata": {},
   "outputs": [],
   "source": [
    "#baseline:0.39535768257\n",
    "#只对rotorspeed做树，500:0.41577290285\n",
    "#增加除法,500,:\n"
   ]
  },
  {
   "cell_type": "code",
   "execution_count": null,
   "metadata": {},
   "outputs": [],
   "source": [
    "#下面准备做伪标签"
   ]
  },
  {
   "cell_type": "code",
   "execution_count": 130,
   "metadata": {},
   "outputs": [
    {
     "data": {
      "image/png": "[encoded data removed]",
      "text/plain": [
       "<Figure size 1440x720 with 2 Axes>"
      ]
     },
     "metadata": {
      "needs_background": "light"
     },
     "output_type": "display_data"
    }
   ],
   "source": [
    "def draw_correlation_heatmap(data: pd.DataFrame, way:str = 'pearson')->None:\n",
    "    feature = data.copy()\n",
    "    plt.figure(figsize=(20,10))\n",
    "    plt.title('The ' + way +' coleration')\n",
    "    sns.heatmap(feature[[x for x in feature.columns if x not in ['Time','WindNumber'] ]].corr(way),linecolor='white',\n",
    "        linewidths=0.1,\n",
    "        cmap=\"RdBu\")\n",
    "    \n",
    "draw_correlation_heatmap(data)"
   ]
  },
  {
   "cell_type": "code",
   "execution_count": null,
   "metadata": {},
   "outputs": [],
   "source": [
    "def draw_pointplot(data: pd.DataFrame)->None:\n",
    "    f, axes = plt.subplots(2, figsize=(12, 10))\n",
    "    count = 0\n",
    "    for i in [x for x in data.columns if x not in ['Time','RotorSpeed','WindNumber']]:\n",
    "        sns.pointplot(x=i, y='RotorSpeed', data=data, ax=axes[count//2],hue='WindNumber')\n",
    "        count += 1\n",
    "        \n",
    "draw_pointplot(data)"
   ]
  },
  {
   "cell_type": "code",
   "execution_count": null,
   "metadata": {},
   "outputs": [],
   "source": [
    "def draw_boxplot(data: pd.DataFrame)->None:\n",
    "    f, axes = plt.subplots(2, figsize=(12, 10))\n",
    "    count = 0\n",
    "    for i in [x for x in data.columns if x not in ['Time','RotorSpeed','WindNumber']]:\n",
    "        sns.boxenplot(x=i, y='RotorSpeed', data=data, ax=axes[count//2],hue='WindNumber')\n",
    "        count += 1\n",
    "        \n",
    "draw_boxplot(data)"
   ]
  },
  {
   "cell_type": "code",
   "execution_count": null,
   "metadata": {},
   "outputs": [],
   "source": []
  }
 ],
 "metadata": {
  "kernelspec": {
   "display_name": "torch",
   "language": "python",
   "name": "torch"
  },
  "language_info": {
   "codemirror_mode": {
    "name": "ipython",
    "version": 3
   },
   "file_extension": ".py",
   "mimetype": "text/x-python",
   "name": "python",
   "nbconvert_exporter": "python",
   "pygments_lexer": "ipython3",
   "version": "3.8.3"
  }
 },
 "nbformat": 4,
 "nbformat_minor": 4
}
